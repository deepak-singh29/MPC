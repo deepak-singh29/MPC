{
 "cells": [
  {
   "cell_type": "markdown",
   "metadata": {},
   "source": [
    "### MPC project\n",
    "\n",
    "\n",
    "#### The Model \n",
    "\n",
    "    * Kinematic model is being used, in which the forces acting between tires and road is ignored.\n",
    "    \n",
    "    * Any position of the car is defined as state vector and its having following elements:\n",
    "    \n",
    "        - x   : x-cordinate of car's position\n",
    "        - y   : y-cordinate of car's position\n",
    "        - v   : velocity of the car\n",
    "        - psi : heading/orientation of the car\n",
    "        - cte : cross track error\n",
    "        - epsi: heading/orientation error\n",
    "    \n",
    "    * Car is being controlled by following control variables:\n",
    "    \n",
    "        - delta : steering angle\n",
    "        - a     : accelearation\n",
    "    \n",
    "    * Below are the governing equation between state variable at time t-1 and t:\n",
    "    \n",
    "      x[t] = x[t-1] + v[t-1] * cos(psi[t-1]) * dt\n",
    "      y[t] = y[t-1] + v[t-1] * sin(psi[t-1]) * dt\n",
    "      psi[t] = psi[t-1] + v[t-1] / Lf * delta[t-1] * dt\n",
    "      v[t] = v[t-1] + a[t-1] * dt\n",
    "      cte[t] = f(x[t-1]) - y[t-1] + v[t-1] * sin(epsi[t-1]) * dt\n",
    "      epsi[t] = psi[t] - psides[t-1] + v[t-1] * delta[t-1] / Lf * dt\n",
    "\n",
    "#### Timestep Length and Elapsed Duration (N & dt) \n",
    "\n",
    "    * N(Timestep length) is the number of states which are going to be predicted from MPC.\n",
    "    * As the number of predicted state are more the processing time is going to be more,delay will be there in system and finally the the actuation given to the simulator are not for the current state but one of the past state.\n",
    "    * We have chossen value for N as 10.\n",
    "    \n",
    "    * dt (Elapsed duration) is the time duration between two consecutive predicted states.\n",
    "    * N * dt is the time which is going to define the predicted state over the time.\n",
    "    * We have choosen dt as 0.1 sec, so that next 1 seconds for the car can be predicted.\n",
    "    \n",
    "#### Polynomial Fitting and MPC Preprocessing\n",
    "\n",
    "    * A 3 degree polynomial is being fitted to the waypoints, because a polynomial of 3 degree can depict nature(turns) of the road nicely.\n",
    "    * Waypoints recieved from simulator are in global map co-ordinates , we have transformed the points into cars co-ordinates before sending it to MPC so that we will get predicted states in car's co-ordinate.\n",
    "\n",
    "#### MPC with Latency\n",
    "    \n",
    "    * There is a latency of 100 mS (0.1 sec) in our system.\n",
    "    * To model this latency we have skipped the first control variables and choosen the second one.\n",
    "    * Due to dt as 0.1s the predicted states are already 100 mS apart.\n",
    "    * As we are giving State(t) to MPC to predict next 10 states, by the time we will apply the actuations car would have been moved to State(t+1) and hence the actuations are not relevent.\n",
    "    * Here we have made a assumption that car is going to be at predicted State(t+1) after ellapse of latency time.\n",
    "    * By choosing second actuation i.e. actuation between State(t+1) and State(t+2) we have modelled the latency. \n",
    "\n",
    "[//]: # (References)\n",
    "[video1]: ./MPC_Video.mp4 \"Video\"\n",
    "\n",
    "#### Simulator Video\n",
    "Here's a [Link to video](./MPC_Video.mp4)"
   ]
  },
  {
   "cell_type": "code",
   "execution_count": null,
   "metadata": {},
   "outputs": [],
   "source": []
  }
 ],
 "metadata": {
  "kernelspec": {
   "display_name": "Python [conda env:carnd-term1]",
   "language": "python",
   "name": "conda-env-carnd-term1-py"
  },
  "language_info": {
   "codemirror_mode": {
    "name": "ipython",
    "version": 3
   },
   "file_extension": ".py",
   "mimetype": "text/x-python",
   "name": "python",
   "nbconvert_exporter": "python",
   "pygments_lexer": "ipython3",
   "version": "3.5.2"
  },
  "widgets": {
   "state": {},
   "version": "1.1.2"
  }
 },
 "nbformat": 4,
 "nbformat_minor": 2
}
